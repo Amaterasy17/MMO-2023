{
 "cells": [
  {
   "cell_type": "markdown",
   "metadata": {},
   "source": [
    "## Рубежный контроль №1.\n",
    "### ИУ5-24М Шевчук М.С. Вариант 17.\n",
    "#### Задание №17\n",
    "Для набора данных проведите нормализацию для одного (произвольного) числового признака с использованием преобразования Йео-Джонсона (Yeo-Johnson transformation).  \n",
    "#### Задание №37\n",
    "Для набора данных проведите процедуру отбора признаков (feature selection). Используйте класс SelectPercentile для 5% лучших признаков, и метод, основанный на взаимной информации.\n",
    "#### Для студентов группы ИУ5-24М\n",
    "Для произвольной колонки данных построить график \"Скрипичная диаграмма (violin plot)\""
   ]
  },
  {
   "cell_type": "code",
   "execution_count": 1,
   "metadata": {},
   "outputs": [],
   "source": [
    "import numpy as np\n",
    "import pandas as pd\n",
    "import seaborn as sns\n",
    "import matplotlib.pyplot as plt\n",
    "import scipy.stats as stats\n",
    "from sklearn.feature_selection import SelectPercentile, mutual_info_classif\n",
    "from sklearn.preprocessing import LabelEncoder"
   ]
  },
  {
   "cell_type": "code",
   "execution_count": 2,
   "metadata": {},
   "outputs": [
    {
     "data": {
      "text/html": [
       "<div>\n",
       "<style scoped>\n",
       "    .dataframe tbody tr th:only-of-type {\n",
       "        vertical-align: middle;\n",
       "    }\n",
       "\n",
       "    .dataframe tbody tr th {\n",
       "        vertical-align: top;\n",
       "    }\n",
       "\n",
       "    .dataframe thead th {\n",
       "        text-align: right;\n",
       "    }\n",
       "</style>\n",
       "<table border=\"1\" class=\"dataframe\">\n",
       "  <thead>\n",
       "    <tr style=\"text-align: right;\">\n",
       "      <th></th>\n",
       "      <th>Area_Name</th>\n",
       "      <th>Year</th>\n",
       "      <th>Group_Name</th>\n",
       "      <th>Sub_Group_Name</th>\n",
       "      <th>K_A_Cases_Reported</th>\n",
       "      <th>K_A_Female_10_15_Years</th>\n",
       "      <th>K_A_Female_15_18_Years</th>\n",
       "      <th>K_A_Female_18_30_Years</th>\n",
       "      <th>K_A_Female_30_50_Years</th>\n",
       "      <th>K_A_Female_Above_50_Years</th>\n",
       "      <th>K_A_Female_Total</th>\n",
       "      <th>K_A_Female_Upto_10_Years</th>\n",
       "      <th>K_A_Grand_Total</th>\n",
       "      <th>K_A_Male_10_15_Years</th>\n",
       "      <th>K_A_Male_15_18_Years</th>\n",
       "      <th>K_A_Male_18_30_Years</th>\n",
       "      <th>K_A_Male_30_50_Years</th>\n",
       "      <th>K_A_Male_Above_50_Years</th>\n",
       "      <th>K_A_Male_Total</th>\n",
       "      <th>K_A_Male_Upto_10_Years</th>\n",
       "    </tr>\n",
       "  </thead>\n",
       "  <tbody>\n",
       "    <tr>\n",
       "      <th>0</th>\n",
       "      <td>Andhra Pradesh</td>\n",
       "      <td>2001</td>\n",
       "      <td>Kidnap - For Adoption</td>\n",
       "      <td>01. For Adoption</td>\n",
       "      <td>8.0</td>\n",
       "      <td>0.0</td>\n",
       "      <td>0.0</td>\n",
       "      <td>4.0</td>\n",
       "      <td>0.0</td>\n",
       "      <td>0.0</td>\n",
       "      <td>5.0</td>\n",
       "      <td>1.0</td>\n",
       "      <td>8.0</td>\n",
       "      <td>0.0</td>\n",
       "      <td>0.0</td>\n",
       "      <td>0.0</td>\n",
       "      <td>0.0</td>\n",
       "      <td>0.0</td>\n",
       "      <td>3.0</td>\n",
       "      <td>3.0</td>\n",
       "    </tr>\n",
       "    <tr>\n",
       "      <th>1</th>\n",
       "      <td>Arunachal Pradesh</td>\n",
       "      <td>2001</td>\n",
       "      <td>Kidnap - For Adoption</td>\n",
       "      <td>01. For Adoption</td>\n",
       "      <td>0.0</td>\n",
       "      <td>0.0</td>\n",
       "      <td>0.0</td>\n",
       "      <td>0.0</td>\n",
       "      <td>0.0</td>\n",
       "      <td>0.0</td>\n",
       "      <td>0.0</td>\n",
       "      <td>0.0</td>\n",
       "      <td>0.0</td>\n",
       "      <td>0.0</td>\n",
       "      <td>0.0</td>\n",
       "      <td>0.0</td>\n",
       "      <td>0.0</td>\n",
       "      <td>0.0</td>\n",
       "      <td>0.0</td>\n",
       "      <td>0.0</td>\n",
       "    </tr>\n",
       "    <tr>\n",
       "      <th>2</th>\n",
       "      <td>Assam</td>\n",
       "      <td>2001</td>\n",
       "      <td>Kidnap - For Adoption</td>\n",
       "      <td>01. For Adoption</td>\n",
       "      <td>0.0</td>\n",
       "      <td>0.0</td>\n",
       "      <td>0.0</td>\n",
       "      <td>0.0</td>\n",
       "      <td>0.0</td>\n",
       "      <td>0.0</td>\n",
       "      <td>0.0</td>\n",
       "      <td>0.0</td>\n",
       "      <td>0.0</td>\n",
       "      <td>0.0</td>\n",
       "      <td>0.0</td>\n",
       "      <td>0.0</td>\n",
       "      <td>0.0</td>\n",
       "      <td>0.0</td>\n",
       "      <td>0.0</td>\n",
       "      <td>0.0</td>\n",
       "    </tr>\n",
       "    <tr>\n",
       "      <th>3</th>\n",
       "      <td>Bihar</td>\n",
       "      <td>2001</td>\n",
       "      <td>Kidnap - For Adoption</td>\n",
       "      <td>01. For Adoption</td>\n",
       "      <td>18.0</td>\n",
       "      <td>0.0</td>\n",
       "      <td>0.0</td>\n",
       "      <td>0.0</td>\n",
       "      <td>0.0</td>\n",
       "      <td>0.0</td>\n",
       "      <td>0.0</td>\n",
       "      <td>0.0</td>\n",
       "      <td>18.0</td>\n",
       "      <td>0.0</td>\n",
       "      <td>0.0</td>\n",
       "      <td>15.0</td>\n",
       "      <td>3.0</td>\n",
       "      <td>0.0</td>\n",
       "      <td>18.0</td>\n",
       "      <td>0.0</td>\n",
       "    </tr>\n",
       "    <tr>\n",
       "      <th>4</th>\n",
       "      <td>Chandigarh</td>\n",
       "      <td>2001</td>\n",
       "      <td>Kidnap - For Adoption</td>\n",
       "      <td>01. For Adoption</td>\n",
       "      <td>0.0</td>\n",
       "      <td>0.0</td>\n",
       "      <td>0.0</td>\n",
       "      <td>0.0</td>\n",
       "      <td>0.0</td>\n",
       "      <td>0.0</td>\n",
       "      <td>0.0</td>\n",
       "      <td>0.0</td>\n",
       "      <td>0.0</td>\n",
       "      <td>0.0</td>\n",
       "      <td>0.0</td>\n",
       "      <td>0.0</td>\n",
       "      <td>0.0</td>\n",
       "      <td>0.0</td>\n",
       "      <td>0.0</td>\n",
       "      <td>0.0</td>\n",
       "    </tr>\n",
       "  </tbody>\n",
       "</table>\n",
       "</div>"
      ],
      "text/plain": [
       "           Area_Name  Year             Group_Name    Sub_Group_Name  \\\n",
       "0     Andhra Pradesh  2001  Kidnap - For Adoption  01. For Adoption   \n",
       "1  Arunachal Pradesh  2001  Kidnap - For Adoption  01. For Adoption   \n",
       "2              Assam  2001  Kidnap - For Adoption  01. For Adoption   \n",
       "3              Bihar  2001  Kidnap - For Adoption  01. For Adoption   \n",
       "4         Chandigarh  2001  Kidnap - For Adoption  01. For Adoption   \n",
       "\n",
       "   K_A_Cases_Reported  K_A_Female_10_15_Years  K_A_Female_15_18_Years  \\\n",
       "0                 8.0                     0.0                     0.0   \n",
       "1                 0.0                     0.0                     0.0   \n",
       "2                 0.0                     0.0                     0.0   \n",
       "3                18.0                     0.0                     0.0   \n",
       "4                 0.0                     0.0                     0.0   \n",
       "\n",
       "   K_A_Female_18_30_Years  K_A_Female_30_50_Years  K_A_Female_Above_50_Years  \\\n",
       "0                     4.0                     0.0                        0.0   \n",
       "1                     0.0                     0.0                        0.0   \n",
       "2                     0.0                     0.0                        0.0   \n",
       "3                     0.0                     0.0                        0.0   \n",
       "4                     0.0                     0.0                        0.0   \n",
       "\n",
       "   K_A_Female_Total  K_A_Female_Upto_10_Years  K_A_Grand_Total  \\\n",
       "0               5.0                       1.0              8.0   \n",
       "1               0.0                       0.0              0.0   \n",
       "2               0.0                       0.0              0.0   \n",
       "3               0.0                       0.0             18.0   \n",
       "4               0.0                       0.0              0.0   \n",
       "\n",
       "   K_A_Male_10_15_Years  K_A_Male_15_18_Years  K_A_Male_18_30_Years  \\\n",
       "0                   0.0                   0.0                   0.0   \n",
       "1                   0.0                   0.0                   0.0   \n",
       "2                   0.0                   0.0                   0.0   \n",
       "3                   0.0                   0.0                  15.0   \n",
       "4                   0.0                   0.0                   0.0   \n",
       "\n",
       "   K_A_Male_30_50_Years  K_A_Male_Above_50_Years  K_A_Male_Total  \\\n",
       "0                   0.0                      0.0             3.0   \n",
       "1                   0.0                      0.0             0.0   \n",
       "2                   0.0                      0.0             0.0   \n",
       "3                   3.0                      0.0            18.0   \n",
       "4                   0.0                      0.0             0.0   \n",
       "\n",
       "   K_A_Male_Upto_10_Years  \n",
       "0                     3.0  \n",
       "1                     0.0  \n",
       "2                     0.0  \n",
       "3                     0.0  \n",
       "4                     0.0  "
      ]
     },
     "execution_count": 2,
     "metadata": {},
     "output_type": "execute_result"
    }
   ],
   "source": [
    "data = pd.read_csv('C:/Users/user/Downloads/39_Specific_purpose_of_kidnapping_and_abduction.csv', sep=',', decimal=',')\n",
    "data = data.dropna()\n",
    "data.head()"
   ]
  },
  {
   "cell_type": "code",
   "execution_count": 3,
   "metadata": {},
   "outputs": [
    {
     "data": {
      "text/plain": [
       "Area_Name                     object\n",
       "Year                           int64\n",
       "Group_Name                    object\n",
       "Sub_Group_Name                object\n",
       "K_A_Cases_Reported           float64\n",
       "K_A_Female_10_15_Years       float64\n",
       "K_A_Female_15_18_Years       float64\n",
       "K_A_Female_18_30_Years       float64\n",
       "K_A_Female_30_50_Years       float64\n",
       "K_A_Female_Above_50_Years    float64\n",
       "K_A_Female_Total             float64\n",
       "K_A_Female_Upto_10_Years     float64\n",
       "K_A_Grand_Total              float64\n",
       "K_A_Male_10_15_Years         float64\n",
       "K_A_Male_15_18_Years         float64\n",
       "K_A_Male_18_30_Years         float64\n",
       "K_A_Male_30_50_Years         float64\n",
       "K_A_Male_Above_50_Years      float64\n",
       "K_A_Male_Total               float64\n",
       "K_A_Male_Upto_10_Years       float64\n",
       "dtype: object"
      ]
     },
     "execution_count": 3,
     "metadata": {},
     "output_type": "execute_result"
    }
   ],
   "source": [
    "data.dtypes"
   ]
  },
  {
   "cell_type": "markdown",
   "metadata": {},
   "source": [
    "### Нормализация числового признака преобразованием Йео-Джонсона + построение гистограммы\n",
    "Столбец до преобразования"
   ]
  },
  {
   "cell_type": "code",
   "execution_count": 4,
   "metadata": {},
   "outputs": [
    {
     "data": {
      "text/plain": [
       "(array([2.496e+03, 1.390e+02, 5.800e+01, 7.800e+01, 3.400e+01, 2.700e+01,\n",
       "        9.000e+00, 1.000e+01, 9.000e+00, 5.000e+00, 7.000e+00, 4.000e+00,\n",
       "        4.000e+00, 5.000e+00, 1.000e+00, 0.000e+00, 0.000e+00, 1.000e+00,\n",
       "        0.000e+00, 0.000e+00, 0.000e+00, 1.000e+00, 0.000e+00, 0.000e+00,\n",
       "        2.000e+00]),\n",
       " array([   0.  ,  252.84,  505.68,  758.52, 1011.36, 1264.2 , 1517.04,\n",
       "        1769.88, 2022.72, 2275.56, 2528.4 , 2781.24, 3034.08, 3286.92,\n",
       "        3539.76, 3792.6 , 4045.44, 4298.28, 4551.12, 4803.96, 5056.8 ,\n",
       "        5309.64, 5562.48, 5815.32, 6068.16, 6321.  ]),\n",
       " <BarContainer object of 25 artists>)"
      ]
     },
     "execution_count": 4,
     "metadata": {},
     "output_type": "execute_result"
    },
    {
     "data": {
      "image/png": "[encoded data removed]",
      "text/plain": [
       "<Figure size 432x288 with 1 Axes>"
      ]
     },
     "metadata": {
      "needs_background": "light"
     },
     "output_type": "display_data"
    }
   ],
   "source": [
    "col_to_normalize = 'K_A_Cases_Reported'\n",
    "plt.hist(data[col_to_normalize], bins=25)"
   ]
  },
  {
   "cell_type": "markdown",
   "metadata": {},
   "source": [
    "После преобразования"
   ]
  },
  {
   "cell_type": "code",
   "execution_count": 5,
   "metadata": {},
   "outputs": [
    {
     "data": {
      "text/plain": [
       "(array([1175.,    0.,    0.,    0.,  184.,    0.,   99.,   63.,   39.,\n",
       "          34.,   68.,   40.,   61.,   63.,  110.,   99.,   88.,   96.,\n",
       "          96.,  101.,  104.,  115.,  140.,   85.,   30.]),\n",
       " array([0.        , 0.15030059, 0.30060118, 0.45090178, 0.60120237,\n",
       "        0.75150296, 0.90180355, 1.05210414, 1.20240474, 1.35270533,\n",
       "        1.50300592, 1.65330651, 1.8036071 , 1.9539077 , 2.10420829,\n",
       "        2.25450888, 2.40480947, 2.55511006, 2.70541066, 2.85571125,\n",
       "        3.00601184, 3.15631243, 3.30661302, 3.45691361, 3.60721421,\n",
       "        3.7575148 ]),\n",
       " <BarContainer object of 25 artists>)"
      ]
     },
     "execution_count": 5,
     "metadata": {},
     "output_type": "execute_result"
    },
    {
     "data": {
      "image/png": "[encoded data removed]",
      "text/plain": [
       "<Figure size 432x288 with 1 Axes>"
      ]
     },
     "metadata": {
      "needs_background": "light"
     },
     "output_type": "display_data"
    }
   ],
   "source": [
    "normalized_col, params = stats.yeojohnson(data[col_to_normalize]) \n",
    "plt.hist(normalized_col, bins=25)"
   ]
  },
  {
   "cell_type": "markdown",
   "metadata": {},
   "source": [
    "### Отбор 5% признаков с помощью класса SelectPercentile и метода основанного на взаимной информации"
   ]
  },
  {
   "cell_type": "code",
   "execution_count": 6,
   "metadata": {},
   "outputs": [],
   "source": [
    "le = LabelEncoder()\n",
    "for col in data.columns:\n",
    "    if data[col].dtype == 'object':\n",
    "        data[col] = le.fit_transform(data[col])"
   ]
  },
  {
   "cell_type": "code",
   "execution_count": 7,
   "metadata": {},
   "outputs": [
    {
     "name": "stdout",
     "output_type": "stream",
     "text": [
      "(2890, 18) (2890,)\n"
     ]
    }
   ],
   "source": [
    "y = data['K_A_Female_Total']\n",
    "x = data[data.columns.difference(['K_A_Female_Total', 'Year'])]\n",
    "print(x.shape, y.shape)"
   ]
  },
  {
   "cell_type": "markdown",
   "metadata": {},
   "source": [
    "Отберём 5% лучших признаков, отобранных с помощью метода mutual_info_classif для задачи классификации"
   ]
  },
  {
   "cell_type": "code",
   "execution_count": 8,
   "metadata": {},
   "outputs": [
    {
     "data": {
      "text/plain": [
       "[('Area_Name', False, 0.06143838303840132),\n",
       " ('Group_Name', False, 0.3402381590958754),\n",
       " ('K_A_Cases_Reported', False, 0.9491201322895946),\n",
       " ('K_A_Female_10_15_Years', False, 0.30625628678038774),\n",
       " ('K_A_Female_15_18_Years', False, 0.4106248034925035),\n",
       " ('K_A_Female_18_30_Years', False, 0.9295228127383219),\n",
       " ('K_A_Female_30_50_Years', False, 0.3197286588279673),\n",
       " ('K_A_Female_Above_50_Years', False, 0.019595818910504992),\n",
       " ('K_A_Female_Upto_10_Years', False, 0.13361783628536772),\n",
       " ('K_A_Grand_Total', True, 1.0343266688482267),\n",
       " ('K_A_Male_10_15_Years', False, 0.03114075212945222),\n",
       " ('K_A_Male_15_18_Years', False, 0.03490664893253381),\n",
       " ('K_A_Male_18_30_Years', False, 0.14047056844939299),\n",
       " ('K_A_Male_30_50_Years', False, 0.11246588881714459),\n",
       " ('K_A_Male_Above_50_Years', False, 0.05621118782166068),\n",
       " ('K_A_Male_Total', False, 0.16206932570142696),\n",
       " ('K_A_Male_Upto_10_Years', False, 0.06925443861190939),\n",
       " ('Sub_Group_Name', False, 0.3259947027323644)]"
      ]
     },
     "execution_count": 8,
     "metadata": {},
     "output_type": "execute_result"
    }
   ],
   "source": [
    "sel_mi = SelectPercentile(mutual_info_classif, percentile=5).fit(x, y)\n",
    "\n",
    "list(zip(x.columns, sel_mi.get_support(), sel_mi.scores_))"
   ]
  },
  {
   "cell_type": "code",
   "execution_count": 10,
   "metadata": {},
   "outputs": [
    {
     "data": {
      "image/png": "[encoded data removed]",
      "text/plain": [
       "<Figure size 432x288 with 1 Axes>"
      ]
     },
     "metadata": {
      "needs_background": "light"
     },
     "output_type": "display_data"
    }
   ],
   "source": [
    "tips = data\n",
    "sns.violinplot(x=\"K_A_Female_Total\", y=\"Year\", data=tips)\n",
    "plt.title(\"Скрипичная диаграмма (violin plot)\")\n",
    "plt.xlabel(\"K_A_Female_Total\")\n",
    "plt.ylabel(\"Year\")\n",
    "plt.show()"
   ]
  }
 ],
 "metadata": {
  "kernelspec": {
   "display_name": "Python 3",
   "language": "python",
   "name": "python3"
  },
  "language_info": {
   "codemirror_mode": {
    "name": "ipython",
    "version": 3
   },
   "file_extension": ".py",
   "mimetype": "text/x-python",
   "name": "python",
   "nbconvert_exporter": "python",
   "pygments_lexer": "ipython3",
   "version": "3.8.5"
  }
 },
 "nbformat": 4,
 "nbformat_minor": 2
}
